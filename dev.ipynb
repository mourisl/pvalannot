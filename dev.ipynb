{
 "cells": [
  {
   "cell_type": "code",
   "execution_count": 1,
   "metadata": {},
   "outputs": [],
   "source": [
    "import seaborn as sns\n",
    "import pandas as pd\n",
    "import numpy as np\n",
    "import matplotlib.pyplot as plt\n",
    "import matplotlib.patches as mpatches\n",
    "import scipy as sp"
   ]
  },
  {
   "cell_type": "code",
   "execution_count": 49,
   "metadata": {},
   "outputs": [],
   "source": [
    "def DrawPvalueBracket(x0, x1, y, h, p, ax, renderer):\n",
    "    ax.plot([x0, x0, x1, x1], [y, y+h, y+h, y], lw=1, color=\"black\")\n",
    "    t = ax.text((x0+x1)/2, y+h, p, ha='center', va='bottom', color=\"black\") \n",
    "    #t = ax.annotate(text = p, xy=((x0+x1)/2, y+h))\n",
    "    # return two boexes, one for brackett, one for text\n",
    "    tbox = t.get_window_extent(renderer).transformed(ax.transData.inverted())\n",
    "    #print(tbox)\n",
    "    return (x0, y, x1, y + h), \\\n",
    "            (tbox.x0, tbox.y0, tbox.x1, tbox.y1)\n",
    "    #print(\"hi\", t.get_window_extent(renderer).transformed(ax.transData.inverted()))\n",
    "    \n",
    "def FormatPString(fmt, pval):\n",
    "    return fmt%pval\n",
    "    \n",
    "# Test whether two boxes overlaps\n",
    "# where we also allow margin distance between two boxes\n",
    "def BoxIntersect(b0, b1, margin):\n",
    "    if (b0[2] <= b1[0] - margin or b0[0] >= b1[2] + margin):\n",
    "        return False\n",
    "    if (b0[3] <= b1[1] - margin or b0[1] >= b1[3] + margin):\n",
    "        return False\n",
    "    return True\n",
    "\n",
    "# @return: the x coordinate for each combination,\n",
    "#          the coordinate map back to the rank,\n",
    "#          the list of height for each x coordinate \n",
    "def BuildXCoord(x, y, hue, xOrder, hueOrder, data):\n",
    "    xCoord = {}\n",
    "    xCoordRank = {}\n",
    "    xCoordRankHeight = []\n",
    "    if (xOrder == None):\n",
    "        xOrder = data[x].unique()\n",
    "    if (hue != None and hueOrder == None):\n",
    "        hueOrder = data[hue].unique()\n",
    "    if (hue == None):\n",
    "        for i, vx in enumerate(xOrder):\n",
    "            xCoord[vx] = i\n",
    "            xCoordRank[i] = i\n",
    "            xCoordRankHeight.append(data.loc[data[x]==vx, y].max())\n",
    "    else:    \n",
    "        block = 0.5 / len(hueOrder)\n",
    "        k = 0\n",
    "        for i, vx in enumerate(xOrder):\n",
    "            for j, vhue in enumerate(hueOrder):\n",
    "                coord = i - 0.25 + j * block\n",
    "                xCoord[(vx, vhue)] = coord\n",
    "                xCoordRank[coord] = k\n",
    "                xCoordRankHeight.append(data.loc[(data[x]==vx) & (data[hue]==vhue), y].max())\n",
    "                k += 1\n",
    "    return xCoord, xCoordRank, xCoordRankHeight\n",
    "\n",
    "def AddPvalAnnot(x, y, data, pairs, ax, hue = None, func = None, order = None, \n",
    "                 hue_order = None, fmt = None, fig = None):\n",
    "    # obtain the x coordinate for each x.\n",
    "    xCoord, xCoordRank, xCoordRankHeight = BuildXCoord(x, y, hue, order, hue_order, data)\n",
    "    \n",
    "    # Get some drawing parameter based on the axis and data size\n",
    "    bot, top = ax.get_ylim()\n",
    "    h = (top - bot) / 30\n",
    "    margin = h / 2\n",
    "    \n",
    "    # These parameters will be determined after drawing the first bracket\n",
    "    fontWidth = 0\n",
    "    fontHeight = 0\n",
    "    \n",
    "    if (func == None):\n",
    "        func = sp.stats.ranksums\n",
    "    if (fmt == None):\n",
    "        fmt = \"%.2e\"\n",
    "    \n",
    "    drawnBrackets = [] # Store a quadruple for each drawn pvalue bracket,\n",
    "                      # (x0, y0, x1, y1): 0 lower left corner, 1 upper right corner\n",
    "        \n",
    "    renderer = fig.canvas.get_renderer()\n",
    "    boxes = []\n",
    "    for i, p in enumerate(sorted(pairs, key=lambda p: (xCoord[p[0]], xCoord[p[1]]))):\n",
    "        if (hue == None):\n",
    "            xv = data.loc[data[x] == p[0], y]\n",
    "            yv = data.loc[data[x] == p[1], y]\n",
    "        else:\n",
    "            xv = data.loc[(data[x] == p[0][0]) & (data[hue] == p[0][1]), y]\n",
    "            xv = data.loc[(data[x] == p[1][0]) & (data[hue] == p[1][1]), y]\n",
    "        if (len(xv) == 0 or len(yv) == 0):\n",
    "            continue\n",
    "            \n",
    "        coord0 = min(xCoord[p[0]], xCoord[p[1]])\n",
    "        coord1 = max(xCoord[p[0]], xCoord[p[1]])\n",
    "        rank0 = xCoordRank[coord0]\n",
    "        rank1 = xCoordRank[coord1]\n",
    "        print(xCoordRankHeight)\n",
    "        base = max(xCoordRankHeight[rank0:(rank1+1)]) + margin\n",
    "        \n",
    "        pval = func(xv, yv)[1]\n",
    "        if (i >= 1):\n",
    "            # Check whether it overlaps with previous drawn rectangles\n",
    "            textSize = fontWidth * len(FormatPString(fmt, pval))\n",
    "            start = min(coord0, (coord0 + coord1) / 2 - textSize / 2)\n",
    "            end = max(coord1, (coord0 + coord1) / 2 + textSize / 2)\n",
    "            while (True):\n",
    "                box = [start, base, end, base + h]\n",
    "                newBase = 0\n",
    "                overlapCount = 0\n",
    "                for prevBox in drawnBrackets:\n",
    "                    if (BoxIntersect(box, prevBox, margin)):\n",
    "                        if (overlapCount == 0):\n",
    "                            newBase = prevBox[3] + margin\n",
    "                        overlapCount += 1\n",
    "                if (overlapCount > 0):\n",
    "                    base = newBase\n",
    "                else:\n",
    "                    break\n",
    "                    \n",
    "        bracketRect, textRect = DrawPvalueBracket(coord0, coord1, base, h, \n",
    "                          FormatPString(fmt, pval), ax, renderer)\n",
    "        # Use the first drawing to get some statistics about sizes\n",
    "        if (i == 0):\n",
    "            fontHeight = textRect[3] - textRect[1]\n",
    "            fontWidth = (textRect[2] - textRect[0]) / len(FormatPString(fmt, pval))\n",
    "        drawnBrackets.append(bracketRect)\n",
    "        drawnBrackets.append(textRect)"
   ]
  },
  {
   "cell_type": "code",
   "execution_count": 46,
   "metadata": {},
   "outputs": [
    {
     "data": {
      "text/plain": [
       "0.9"
      ]
     },
     "execution_count": 46,
     "metadata": {},
     "output_type": "execute_result"
    }
   ],
   "source": [
    "tmpdf.loc[tmpdf[\"genotype\"]==\"A\", metric].max()"
   ]
  },
  {
   "cell_type": "code",
   "execution_count": 52,
   "metadata": {
    "scrolled": false
   },
   "outputs": [
    {
     "name": "stdout",
     "output_type": "stream",
     "text": [
      "[0.9, 0.9, 0.9, 0.9]\n",
      "[0.9, 0.9, 0.9, 0.9]\n",
      "[0.9, 0.9, 0.9, 0.9]\n"
     ]
    },
    {
     "data": {
      "image/png": "[encoded data removed]",
      "text/plain": [
       "<Figure size 1440x720 with 2 Axes>"
      ]
     },
     "metadata": {},
     "output_type": "display_data"
    }
   ],
   "source": [
    "tmpg = []\n",
    "tmpm = []\n",
    "tmpr = []\n",
    "genotypes = [\"A\", \"B\", \"C\", \"D\"]\n",
    "respond = [\"R\", \"NR\"]\n",
    "metric = \"x\"\n",
    "for i in range(5):\n",
    "    for g in genotypes:\n",
    "        tmpg.append(g)\n",
    "        tmpm.append(i / 10)\n",
    "        tmpr.append(\"NR\")\n",
    "for i in range(5, 10):\n",
    "    for g in genotypes:\n",
    "        tmpg.append(g)\n",
    "        tmpm.append(i / 10)\n",
    "        tmpr.append(\"R\")\n",
    "tmpdf = pd.DataFrame()\n",
    "tmpdf[\"genotype\"] = tmpg\n",
    "tmpdf[metric] = tmpm\n",
    "tmpdf[\"respond\"] = tmpr\n",
    "pairs = []\n",
    "pairs.append([genotypes[2], genotypes[3]])\n",
    "pairs.append([genotypes[1], genotypes[2]])\n",
    "pairs.append([genotypes[0], genotypes[1]])\n",
    "#pairs.append([genotypes[2], genotypes[3]])\n",
    "sns.set(font_scale=1.25, style=\"white\")\n",
    "fig, axes = plt.subplots(2, 1, figsize=(20, 10))\n",
    "ax = sns.boxplot(x=\"genotype\", y=metric, data=tmpdf, ax = axes[0])\n",
    "\n",
    "if (0):\n",
    "    annotator = Annotator(ax, pairs, data=tmpdf, x=\"genotype\", y=metric)\n",
    "    annotator.configure(test='Mann-Whitney', text_format='star')\n",
    "    annotator.apply_and_annotate()\n",
    "else:\n",
    "    AddPvalAnnot(x=\"genotype\", y=metric, data=tmpdf, pairs=pairs, ax=ax, fig=fig, fmt=\"%.3f\")\n",
    "plt.draw()"
   ]
  }
 ],
 "metadata": {
  "kernelspec": {
   "display_name": "Python 3",
   "language": "python",
   "name": "python3"
  },
  "language_info": {
   "codemirror_mode": {
    "name": "ipython",
    "version": 3
   },
   "file_extension": ".py",
   "mimetype": "text/x-python",
   "name": "python",
   "nbconvert_exporter": "python",
   "pygments_lexer": "ipython3",
   "version": "3.7.6"
  }
 },
 "nbformat": 4,
 "nbformat_minor": 2
}
